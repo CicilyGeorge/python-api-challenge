{
 "cells": [
  {
   "cell_type": "markdown",
   "metadata": {},
   "source": [
    "# VacationPy\n",
    "----\n"
   ]
  },
  {
   "cell_type": "code",
   "execution_count": 83,
   "metadata": {
    "ExecuteTime": {
     "end_time": "2020-10-15T18:51:41.078869Z",
     "start_time": "2020-10-15T18:51:41.064890Z"
    }
   },
   "outputs": [],
   "source": [
    "# Dependencies and Setup\n",
    "import matplotlib.pyplot as plt\n",
    "import pandas as pd\n",
    "import numpy as np\n",
    "import requests\n",
    "import gmaps\n",
    "import os\n",
    "\n",
    "# Import API key\n",
    "from api_keys import g_key"
   ]
  },
  {
   "cell_type": "markdown",
   "metadata": {},
   "source": [
    "### Store Part I results into DataFrame\n",
    "* Load the csv exported in Part I to a DataFrame"
   ]
  },
  {
   "cell_type": "code",
   "execution_count": 84,
   "metadata": {
    "ExecuteTime": {
     "end_time": "2020-10-15T18:51:44.122631Z",
     "start_time": "2020-10-15T18:51:44.089841Z"
    }
   },
   "outputs": [
    {
     "data": {
      "text/html": [
       "<div>\n",
       "<style scoped>\n",
       "    .dataframe tbody tr th:only-of-type {\n",
       "        vertical-align: middle;\n",
       "    }\n",
       "\n",
       "    .dataframe tbody tr th {\n",
       "        vertical-align: top;\n",
       "    }\n",
       "\n",
       "    .dataframe thead th {\n",
       "        text-align: right;\n",
       "    }\n",
       "</style>\n",
       "<table border=\"1\" class=\"dataframe\">\n",
       "  <thead>\n",
       "    <tr style=\"text-align: right;\">\n",
       "      <th></th>\n",
       "      <th>City</th>\n",
       "      <th>Lat</th>\n",
       "      <th>Lng</th>\n",
       "      <th>Max Temp</th>\n",
       "      <th>Humidity</th>\n",
       "      <th>Cloudiness</th>\n",
       "      <th>Wind Speed</th>\n",
       "      <th>Country</th>\n",
       "      <th>Date</th>\n",
       "    </tr>\n",
       "  </thead>\n",
       "  <tbody>\n",
       "    <tr>\n",
       "      <th>0</th>\n",
       "      <td>mataura</td>\n",
       "      <td>-46.19</td>\n",
       "      <td>168.86</td>\n",
       "      <td>32.09</td>\n",
       "      <td>92</td>\n",
       "      <td>40</td>\n",
       "      <td>3.71</td>\n",
       "      <td>NZ</td>\n",
       "      <td>1602785419</td>\n",
       "    </tr>\n",
       "    <tr>\n",
       "      <th>1</th>\n",
       "      <td>mahebourg</td>\n",
       "      <td>-20.41</td>\n",
       "      <td>57.70</td>\n",
       "      <td>75.20</td>\n",
       "      <td>78</td>\n",
       "      <td>40</td>\n",
       "      <td>8.05</td>\n",
       "      <td>MU</td>\n",
       "      <td>1602785420</td>\n",
       "    </tr>\n",
       "    <tr>\n",
       "      <th>2</th>\n",
       "      <td>salym</td>\n",
       "      <td>60.06</td>\n",
       "      <td>71.48</td>\n",
       "      <td>31.05</td>\n",
       "      <td>96</td>\n",
       "      <td>0</td>\n",
       "      <td>3.89</td>\n",
       "      <td>RU</td>\n",
       "      <td>1602785420</td>\n",
       "    </tr>\n",
       "    <tr>\n",
       "      <th>3</th>\n",
       "      <td>kodiak</td>\n",
       "      <td>57.79</td>\n",
       "      <td>-152.41</td>\n",
       "      <td>41.00</td>\n",
       "      <td>80</td>\n",
       "      <td>1</td>\n",
       "      <td>5.82</td>\n",
       "      <td>US</td>\n",
       "      <td>1602785420</td>\n",
       "    </tr>\n",
       "    <tr>\n",
       "      <th>4</th>\n",
       "      <td>hermanus</td>\n",
       "      <td>-34.42</td>\n",
       "      <td>19.23</td>\n",
       "      <td>59.00</td>\n",
       "      <td>84</td>\n",
       "      <td>43</td>\n",
       "      <td>1.01</td>\n",
       "      <td>ZA</td>\n",
       "      <td>1602785420</td>\n",
       "    </tr>\n",
       "  </tbody>\n",
       "</table>\n",
       "</div>"
      ],
      "text/plain": [
       "        City    Lat     Lng  Max Temp  Humidity  Cloudiness  Wind Speed  \\\n",
       "0    mataura -46.19  168.86     32.09        92          40        3.71   \n",
       "1  mahebourg -20.41   57.70     75.20        78          40        8.05   \n",
       "2      salym  60.06   71.48     31.05        96           0        3.89   \n",
       "3     kodiak  57.79 -152.41     41.00        80           1        5.82   \n",
       "4   hermanus -34.42   19.23     59.00        84          43        1.01   \n",
       "\n",
       "  Country        Date  \n",
       "0      NZ  1602785419  \n",
       "1      MU  1602785420  \n",
       "2      RU  1602785420  \n",
       "3      US  1602785420  \n",
       "4      ZA  1602785420  "
      ]
     },
     "execution_count": 84,
     "metadata": {},
     "output_type": "execute_result"
    }
   ],
   "source": [
    "city_data = pd.read_csv(\"../output_data/clean_city_data.csv\")\n",
    "\n",
    "# Visualize\n",
    "city_data.head()\n"
   ]
  },
  {
   "cell_type": "markdown",
   "metadata": {},
   "source": [
    "### Humidity Heatmap\n",
    "* Configure gmaps.\n",
    "* Use the Lat and Lng as locations and Humidity as the weight.\n",
    "* Add Heatmap layer to map."
   ]
  },
  {
   "cell_type": "code",
   "execution_count": 85,
   "metadata": {
    "ExecuteTime": {
     "end_time": "2020-10-15T18:51:48.020253Z",
     "start_time": "2020-10-15T18:51:47.966287Z"
    }
   },
   "outputs": [
    {
     "data": {
      "application/vnd.jupyter.widget-view+json": {
       "model_id": "0b1e4f136e0d49d8bc3b448eb1146552",
       "version_major": 2,
       "version_minor": 0
      },
      "text/plain": [
       "Figure(layout=FigureLayout(height='420px', margin='0 auto 0 auto', width='800px'))"
      ]
     },
     "metadata": {},
     "output_type": "display_data"
    }
   ],
   "source": [
    "# Configure gmaps with API key\n",
    "gmaps.configure(api_key=g_key)\n",
    "# Store 'Lat' and 'Lng' into  locations \n",
    "locations = city_data[[\"Lat\", \"Lng\"]].astype(float)\n",
    "\n",
    "# Convert Poverty Rate to float and store\n",
    "humidity = city_data[\"Humidity\"].astype(float)\n",
    "\n",
    "# Create a poverty Heatmap layer\n",
    "fig = gmaps.figure(center=(10,20), zoom_level=2, \\\n",
    "                   layout={'width': '800px', 'margin': '0 auto 0 auto'})\n",
    "\n",
    "\n",
    "heatmap_layer = gmaps.heatmap_layer(locations, weights=humidity, \n",
    "                                 dissipating=False, max_intensity=100,\n",
    "                                 point_radius = 3, opacity=0.5)\n",
    "\n",
    "\n",
    "fig.add_layer(heatmap_layer)\n",
    "\n",
    "fig"
   ]
  },
  {
   "cell_type": "markdown",
   "metadata": {},
   "source": [
    "### Create new DataFrame fitting weather criteria\n",
    "* Narrow down the cities to fit weather conditions.\n",
    "* Drop any rows with null values."
   ]
  },
  {
   "cell_type": "code",
   "execution_count": 86,
   "metadata": {
    "ExecuteTime": {
     "end_time": "2020-10-15T18:52:01.550671Z",
     "start_time": "2020-10-15T18:52:01.531682Z"
    }
   },
   "outputs": [
    {
     "data": {
      "text/html": [
       "<div>\n",
       "<style scoped>\n",
       "    .dataframe tbody tr th:only-of-type {\n",
       "        vertical-align: middle;\n",
       "    }\n",
       "\n",
       "    .dataframe tbody tr th {\n",
       "        vertical-align: top;\n",
       "    }\n",
       "\n",
       "    .dataframe thead th {\n",
       "        text-align: right;\n",
       "    }\n",
       "</style>\n",
       "<table border=\"1\" class=\"dataframe\">\n",
       "  <thead>\n",
       "    <tr style=\"text-align: right;\">\n",
       "      <th></th>\n",
       "      <th>City</th>\n",
       "      <th>Lat</th>\n",
       "      <th>Lng</th>\n",
       "      <th>Max Temp</th>\n",
       "      <th>Humidity</th>\n",
       "      <th>Cloudiness</th>\n",
       "      <th>Wind Speed</th>\n",
       "      <th>Country</th>\n",
       "      <th>Date</th>\n",
       "    </tr>\n",
       "  </thead>\n",
       "  <tbody>\n",
       "    <tr>\n",
       "      <th>0</th>\n",
       "      <td>kununurra</td>\n",
       "      <td>-15.77</td>\n",
       "      <td>128.73</td>\n",
       "      <td>77.00</td>\n",
       "      <td>88</td>\n",
       "      <td>0</td>\n",
       "      <td>2.24</td>\n",
       "      <td>AU</td>\n",
       "      <td>1602785432</td>\n",
       "    </tr>\n",
       "    <tr>\n",
       "      <th>1</th>\n",
       "      <td>jhargram</td>\n",
       "      <td>22.45</td>\n",
       "      <td>86.98</td>\n",
       "      <td>77.36</td>\n",
       "      <td>89</td>\n",
       "      <td>0</td>\n",
       "      <td>2.84</td>\n",
       "      <td>IN</td>\n",
       "      <td>1602785386</td>\n",
       "    </tr>\n",
       "    <tr>\n",
       "      <th>2</th>\n",
       "      <td>marzuq</td>\n",
       "      <td>14.40</td>\n",
       "      <td>46.47</td>\n",
       "      <td>73.90</td>\n",
       "      <td>19</td>\n",
       "      <td>0</td>\n",
       "      <td>4.12</td>\n",
       "      <td>YE</td>\n",
       "      <td>1602785476</td>\n",
       "    </tr>\n",
       "    <tr>\n",
       "      <th>3</th>\n",
       "      <td>tura</td>\n",
       "      <td>25.52</td>\n",
       "      <td>90.22</td>\n",
       "      <td>73.67</td>\n",
       "      <td>94</td>\n",
       "      <td>0</td>\n",
       "      <td>1.83</td>\n",
       "      <td>IN</td>\n",
       "      <td>1602785476</td>\n",
       "    </tr>\n",
       "    <tr>\n",
       "      <th>4</th>\n",
       "      <td>kanye</td>\n",
       "      <td>-24.97</td>\n",
       "      <td>25.33</td>\n",
       "      <td>74.25</td>\n",
       "      <td>32</td>\n",
       "      <td>0</td>\n",
       "      <td>7.76</td>\n",
       "      <td>BW</td>\n",
       "      <td>1602785487</td>\n",
       "    </tr>\n",
       "    <tr>\n",
       "      <th>5</th>\n",
       "      <td>port hedland</td>\n",
       "      <td>-20.32</td>\n",
       "      <td>118.57</td>\n",
       "      <td>75.20</td>\n",
       "      <td>69</td>\n",
       "      <td>0</td>\n",
       "      <td>9.17</td>\n",
       "      <td>AU</td>\n",
       "      <td>1602785463</td>\n",
       "    </tr>\n",
       "    <tr>\n",
       "      <th>6</th>\n",
       "      <td>alangayam</td>\n",
       "      <td>12.60</td>\n",
       "      <td>78.75</td>\n",
       "      <td>71.33</td>\n",
       "      <td>83</td>\n",
       "      <td>0</td>\n",
       "      <td>2.24</td>\n",
       "      <td>IN</td>\n",
       "      <td>1602785500</td>\n",
       "    </tr>\n",
       "    <tr>\n",
       "      <th>7</th>\n",
       "      <td>alice springs</td>\n",
       "      <td>-23.70</td>\n",
       "      <td>133.88</td>\n",
       "      <td>75.00</td>\n",
       "      <td>45</td>\n",
       "      <td>0</td>\n",
       "      <td>4.99</td>\n",
       "      <td>AU</td>\n",
       "      <td>1602785450</td>\n",
       "    </tr>\n",
       "  </tbody>\n",
       "</table>\n",
       "</div>"
      ],
      "text/plain": [
       "            City    Lat     Lng  Max Temp  Humidity  Cloudiness  Wind Speed  \\\n",
       "0      kununurra -15.77  128.73     77.00        88           0        2.24   \n",
       "1       jhargram  22.45   86.98     77.36        89           0        2.84   \n",
       "2         marzuq  14.40   46.47     73.90        19           0        4.12   \n",
       "3           tura  25.52   90.22     73.67        94           0        1.83   \n",
       "4          kanye -24.97   25.33     74.25        32           0        7.76   \n",
       "5   port hedland -20.32  118.57     75.20        69           0        9.17   \n",
       "6      alangayam  12.60   78.75     71.33        83           0        2.24   \n",
       "7  alice springs -23.70  133.88     75.00        45           0        4.99   \n",
       "\n",
       "  Country        Date  \n",
       "0      AU  1602785432  \n",
       "1      IN  1602785386  \n",
       "2      YE  1602785476  \n",
       "3      IN  1602785476  \n",
       "4      BW  1602785487  \n",
       "5      AU  1602785463  \n",
       "6      IN  1602785500  \n",
       "7      AU  1602785450  "
      ]
     },
     "execution_count": 86,
     "metadata": {},
     "output_type": "execute_result"
    }
   ],
   "source": [
    "ideal_city = city_data.loc[(city_data['Max Temp'] > 70) & \n",
    "                           (city_data['Max Temp'] < 80) &\n",
    "                           (city_data['Wind Speed'] < 10) &\n",
    "                           (city_data['Cloudiness'] == 0)\n",
    "                          ].reset_index(drop=True)\n",
    "ideal_city"
   ]
  },
  {
   "cell_type": "markdown",
   "metadata": {},
   "source": [
    "### Hotel Map\n",
    "* Store into variable named `hotel_df`.\n",
    "* Add a \"Hotel Name\" column to the DataFrame.\n",
    "* Set parameters to search for hotels with 5000 meters.\n",
    "* Hit the Google Places API for each city's coordinates.\n",
    "* Store the first Hotel result into the DataFrame.\n",
    "* Plot markers on top of the heatmap."
   ]
  },
  {
   "cell_type": "code",
   "execution_count": 87,
   "metadata": {
    "ExecuteTime": {
     "end_time": "2020-10-15T18:52:28.886373Z",
     "start_time": "2020-10-15T18:52:20.698520Z"
    }
   },
   "outputs": [
    {
     "name": "stdout",
     "output_type": "stream",
     "text": [
      "Retieved information of Hotel Kununurra Lakeside Resort.\n",
      "Retieved information of Hotel Jhargram Prokriti Porjoton Kendra.\n",
      "Missing field/result... skipping.\n",
      "Retieved information of Hotel Hotel Polo Orchid.\n",
      "Retieved information of Hotel Ga-Thuli Guest House.\n",
      "Retieved information of Hotel The Esplanade Hotel.\n",
      "Missing field/result... skipping.\n",
      "Retieved information of Hotel DoubleTree by Hilton Hotel Alice Springs.\n"
     ]
    },
    {
     "data": {
      "text/html": [
       "<div>\n",
       "<style scoped>\n",
       "    .dataframe tbody tr th:only-of-type {\n",
       "        vertical-align: middle;\n",
       "    }\n",
       "\n",
       "    .dataframe tbody tr th {\n",
       "        vertical-align: top;\n",
       "    }\n",
       "\n",
       "    .dataframe thead th {\n",
       "        text-align: right;\n",
       "    }\n",
       "</style>\n",
       "<table border=\"1\" class=\"dataframe\">\n",
       "  <thead>\n",
       "    <tr style=\"text-align: right;\">\n",
       "      <th></th>\n",
       "      <th>Hotel Name</th>\n",
       "      <th>Lat</th>\n",
       "      <th>Lng</th>\n",
       "      <th>Address</th>\n",
       "    </tr>\n",
       "  </thead>\n",
       "  <tbody>\n",
       "    <tr>\n",
       "      <th>0</th>\n",
       "      <td>Kununurra Lakeside Resort</td>\n",
       "      <td>-15.783161</td>\n",
       "      <td>128.742868</td>\n",
       "      <td>50 Casuarina Way, Kununurra</td>\n",
       "    </tr>\n",
       "    <tr>\n",
       "      <th>1</th>\n",
       "      <td>Jhargram Prokriti Porjoton Kendra</td>\n",
       "      <td>22.424326</td>\n",
       "      <td>87.002846</td>\n",
       "      <td>Jhargram</td>\n",
       "    </tr>\n",
       "    <tr>\n",
       "      <th>3</th>\n",
       "      <td>Hotel Polo Orchid</td>\n",
       "      <td>25.514468</td>\n",
       "      <td>90.192206</td>\n",
       "      <td>Araimile, Tura</td>\n",
       "    </tr>\n",
       "    <tr>\n",
       "      <th>4</th>\n",
       "      <td>Ga-Thuli Guest House</td>\n",
       "      <td>-24.977493</td>\n",
       "      <td>25.327671</td>\n",
       "      <td>Kanye, Mmalekwa Ward, Kanye</td>\n",
       "    </tr>\n",
       "    <tr>\n",
       "      <th>5</th>\n",
       "      <td>The Esplanade Hotel</td>\n",
       "      <td>-20.313925</td>\n",
       "      <td>118.576081</td>\n",
       "      <td>2 Anderson St, Port Hedland</td>\n",
       "    </tr>\n",
       "    <tr>\n",
       "      <th>7</th>\n",
       "      <td>DoubleTree by Hilton Hotel Alice Springs</td>\n",
       "      <td>-23.715016</td>\n",
       "      <td>133.879153</td>\n",
       "      <td>82 Barrett Dr, Alice Springs</td>\n",
       "    </tr>\n",
       "  </tbody>\n",
       "</table>\n",
       "</div>"
      ],
      "text/plain": [
       "                                 Hotel Name        Lat         Lng  \\\n",
       "0                 Kununurra Lakeside Resort -15.783161  128.742868   \n",
       "1         Jhargram Prokriti Porjoton Kendra  22.424326   87.002846   \n",
       "3                         Hotel Polo Orchid  25.514468   90.192206   \n",
       "4                      Ga-Thuli Guest House -24.977493   25.327671   \n",
       "5                       The Esplanade Hotel -20.313925  118.576081   \n",
       "7  DoubleTree by Hilton Hotel Alice Springs -23.715016  133.879153   \n",
       "\n",
       "                        Address  \n",
       "0   50 Casuarina Way, Kununurra  \n",
       "1                      Jhargram  \n",
       "3                Araimile, Tura  \n",
       "4   Kanye, Mmalekwa Ward, Kanye  \n",
       "5   2 Anderson St, Port Hedland  \n",
       "7  82 Barrett Dr, Alice Springs  "
      ]
     },
     "execution_count": 87,
     "metadata": {},
     "output_type": "execute_result"
    }
   ],
   "source": [
    "hotel_df = pd.DataFrame(columns=['Hotel Name'])\n",
    "base_url = \"https://maps.googleapis.com/maps/api/place/nearbysearch/json\"\n",
    "params = {\n",
    "    \"radius\": 5000,\n",
    "    \"keyword\": \"hotel\",\n",
    "    \"key\": g_key\n",
    "}\n",
    "\n",
    "# Use the lat/lng we recovered to identify airports\n",
    "for index, row in ideal_city.iterrows():\n",
    "    # get lat, lng from df\n",
    "    lat = row[\"Lat\"]\n",
    "    lng = row[\"Lng\"]\n",
    "\n",
    "    # change location each iteration while leaving original params in place\n",
    "    params[\"location\"] = f\"{lat},{lng}\"\n",
    "\n",
    "    # make request and print url\n",
    "    hotel_results = requests.get(base_url, params=params).json()\n",
    "\n",
    "    # Since some data may be missing we incorporate a try-except to skip any that are missing a data point.\n",
    "    try:   \n",
    "        hotel_df.loc[index, \"Hotel Name\"] = hotel_results[\"results\"][0][\"name\"]\n",
    "        hotel_df.loc[index, \"Lat\"] = hotel_results[\"results\"][0][\"geometry\"][\"location\"][\"lat\"]\n",
    "        hotel_df.loc[index, \"Lng\"] = hotel_results[\"results\"][0][\"geometry\"][\"location\"][\"lng\"]\n",
    "        hotel_df.loc[index, \"Address\"] = hotel_results[\"results\"][0][\"vicinity\"]\n",
    "        print(f\"Retieved information of Hotel {hotel_results['results'][0]['name']}.\")\n",
    "    except (KeyError, IndexError):\n",
    "        print(\"Missing field/result... skipping.\")\n",
    "\n",
    "\n",
    "hotel_df"
   ]
  },
  {
   "cell_type": "code",
   "execution_count": 88,
   "metadata": {
    "ExecuteTime": {
     "end_time": "2020-10-15T18:52:44.162269Z",
     "start_time": "2020-10-15T18:52:44.122294Z"
    }
   },
   "outputs": [
    {
     "data": {
      "text/html": [
       "<div>\n",
       "<style scoped>\n",
       "    .dataframe tbody tr th:only-of-type {\n",
       "        vertical-align: middle;\n",
       "    }\n",
       "\n",
       "    .dataframe tbody tr th {\n",
       "        vertical-align: top;\n",
       "    }\n",
       "\n",
       "    .dataframe thead th {\n",
       "        text-align: right;\n",
       "    }\n",
       "</style>\n",
       "<table border=\"1\" class=\"dataframe\">\n",
       "  <thead>\n",
       "    <tr style=\"text-align: right;\">\n",
       "      <th></th>\n",
       "      <th>Hotel Name</th>\n",
       "      <th>Lat</th>\n",
       "      <th>Lng</th>\n",
       "      <th>Address</th>\n",
       "      <th>City</th>\n",
       "      <th>Country</th>\n",
       "    </tr>\n",
       "  </thead>\n",
       "  <tbody>\n",
       "    <tr>\n",
       "      <th>0</th>\n",
       "      <td>Kununurra Lakeside Resort</td>\n",
       "      <td>-15.783161</td>\n",
       "      <td>128.742868</td>\n",
       "      <td>50 Casuarina Way, Kununurra</td>\n",
       "      <td>kununurra</td>\n",
       "      <td>AU</td>\n",
       "    </tr>\n",
       "    <tr>\n",
       "      <th>1</th>\n",
       "      <td>Jhargram Prokriti Porjoton Kendra</td>\n",
       "      <td>22.424326</td>\n",
       "      <td>87.002846</td>\n",
       "      <td>Jhargram</td>\n",
       "      <td>jhargram</td>\n",
       "      <td>IN</td>\n",
       "    </tr>\n",
       "    <tr>\n",
       "      <th>3</th>\n",
       "      <td>Hotel Polo Orchid</td>\n",
       "      <td>25.514468</td>\n",
       "      <td>90.192206</td>\n",
       "      <td>Araimile, Tura</td>\n",
       "      <td>tura</td>\n",
       "      <td>IN</td>\n",
       "    </tr>\n",
       "    <tr>\n",
       "      <th>4</th>\n",
       "      <td>Ga-Thuli Guest House</td>\n",
       "      <td>-24.977493</td>\n",
       "      <td>25.327671</td>\n",
       "      <td>Kanye, Mmalekwa Ward, Kanye</td>\n",
       "      <td>kanye</td>\n",
       "      <td>BW</td>\n",
       "    </tr>\n",
       "    <tr>\n",
       "      <th>5</th>\n",
       "      <td>The Esplanade Hotel</td>\n",
       "      <td>-20.313925</td>\n",
       "      <td>118.576081</td>\n",
       "      <td>2 Anderson St, Port Hedland</td>\n",
       "      <td>port hedland</td>\n",
       "      <td>AU</td>\n",
       "    </tr>\n",
       "    <tr>\n",
       "      <th>7</th>\n",
       "      <td>DoubleTree by Hilton Hotel Alice Springs</td>\n",
       "      <td>-23.715016</td>\n",
       "      <td>133.879153</td>\n",
       "      <td>82 Barrett Dr, Alice Springs</td>\n",
       "      <td>alice springs</td>\n",
       "      <td>AU</td>\n",
       "    </tr>\n",
       "  </tbody>\n",
       "</table>\n",
       "</div>"
      ],
      "text/plain": [
       "                                 Hotel Name        Lat         Lng  \\\n",
       "0                 Kununurra Lakeside Resort -15.783161  128.742868   \n",
       "1         Jhargram Prokriti Porjoton Kendra  22.424326   87.002846   \n",
       "3                         Hotel Polo Orchid  25.514468   90.192206   \n",
       "4                      Ga-Thuli Guest House -24.977493   25.327671   \n",
       "5                       The Esplanade Hotel -20.313925  118.576081   \n",
       "7  DoubleTree by Hilton Hotel Alice Springs -23.715016  133.879153   \n",
       "\n",
       "                        Address           City Country  \n",
       "0   50 Casuarina Way, Kununurra      kununurra      AU  \n",
       "1                      Jhargram       jhargram      IN  \n",
       "3                Araimile, Tura           tura      IN  \n",
       "4   Kanye, Mmalekwa Ward, Kanye          kanye      BW  \n",
       "5   2 Anderson St, Port Hedland   port hedland      AU  \n",
       "7  82 Barrett Dr, Alice Springs  alice springs      AU  "
      ]
     },
     "execution_count": 88,
     "metadata": {},
     "output_type": "execute_result"
    }
   ],
   "source": [
    "hotel_df[[\"City\",\"Country\"]] = ideal_city[[\"City\",\"Country\"]]\n",
    "hotel_df"
   ]
  },
  {
   "cell_type": "code",
   "execution_count": 89,
   "metadata": {
    "ExecuteTime": {
     "end_time": "2020-10-15T18:53:00.250428Z",
     "start_time": "2020-10-15T18:53:00.241434Z"
    }
   },
   "outputs": [],
   "source": [
    "# NOTE: Do not change any of the code in this cell\n",
    "\n",
    "# Using the template add the hotel marks to the heatmap\n",
    "info_box_template = \"\"\"\n",
    "<dl>\n",
    "<dt>Name</dt><dd>{Hotel Name}</dd>\n",
    "<dt>City</dt><dd>{City}</dd>\n",
    "<dt>Country</dt><dd>{Country}</dd>\n",
    "</dl>\n",
    "\"\"\"\n",
    "# Store the DataFrame Row\n",
    "# NOTE: be sure to update with your DataFrame name\n",
    "hotel_info = [info_box_template.format(**row) for index, row in hotel_df.iterrows()]\n",
    "locations = hotel_df[[\"Lat\", \"Lng\"]]"
   ]
  },
  {
   "cell_type": "code",
   "execution_count": 90,
   "metadata": {
    "ExecuteTime": {
     "end_time": "2020-10-15T18:53:03.972077Z",
     "start_time": "2020-10-15T18:53:03.928094Z"
    }
   },
   "outputs": [
    {
     "data": {
      "application/vnd.jupyter.widget-view+json": {
       "model_id": "79a4da2de3014e2ca6680144f8c7ddb8",
       "version_major": 2,
       "version_minor": 0
      },
      "text/plain": [
       "Figure(layout=FigureLayout(height='420px', margin='0 auto 0 auto', width='800px'))"
      ]
     },
     "metadata": {},
     "output_type": "display_data"
    }
   ],
   "source": [
    "# Add marker layer ontop of heat map\n",
    "fig = gmaps.figure(center=(10,20), zoom_level=2, \\\n",
    "                   layout={'width': '800px', 'margin': '0 auto 0 auto'})\n",
    "\n",
    "markers = gmaps.marker_layer(locations, info_box_content=hotel_info)\n",
    "fig.add_layer(markers)\n",
    "\n",
    "# Display figure\n",
    "fig"
   ]
  },
  {
   "cell_type": "code",
   "execution_count": null,
   "metadata": {},
   "outputs": [],
   "source": []
  }
 ],
 "metadata": {
  "hide_input": false,
  "kernelspec": {
   "display_name": "Python 3",
   "language": "python",
   "name": "python3"
  },
  "language_info": {
   "codemirror_mode": {
    "name": "ipython",
    "version": 3
   },
   "file_extension": ".py",
   "mimetype": "text/x-python",
   "name": "python",
   "nbconvert_exporter": "python",
   "pygments_lexer": "ipython3",
   "version": "3.7.9"
  },
  "latex_envs": {
   "LaTeX_envs_menu_present": true,
   "autoclose": false,
   "autocomplete": true,
   "bibliofile": "biblio.bib",
   "cite_by": "apalike",
   "current_citInitial": 1,
   "eqLabelWithNumbers": true,
   "eqNumInitial": 1,
   "hotkeys": {
    "equation": "Ctrl-E",
    "itemize": "Ctrl-I"
   },
   "labels_anchors": false,
   "latex_user_defs": false,
   "report_style_numbering": false,
   "user_envs_cfg": false
  },
  "varInspector": {
   "cols": {
    "lenName": 16,
    "lenType": 16,
    "lenVar": 40
   },
   "kernels_config": {
    "python": {
     "delete_cmd_postfix": "",
     "delete_cmd_prefix": "del ",
     "library": "var_list.py",
     "varRefreshCmd": "print(var_dic_list())"
    },
    "r": {
     "delete_cmd_postfix": ") ",
     "delete_cmd_prefix": "rm(",
     "library": "var_list.r",
     "varRefreshCmd": "cat(var_dic_list()) "
    }
   },
   "types_to_exclude": [
    "module",
    "function",
    "builtin_function_or_method",
    "instance",
    "_Feature"
   ],
   "window_display": false
  }
 },
 "nbformat": 4,
 "nbformat_minor": 4
}
